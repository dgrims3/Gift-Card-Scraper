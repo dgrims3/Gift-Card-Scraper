{
 "cells": [
  {
   "cell_type": "code",
   "execution_count": 1,
   "id": "21007390",
   "metadata": {},
   "outputs": [],
   "source": [
    "import undetected_chromedriver as uc\n",
    "from selenium import webdriver\n",
    "from selenium.webdriver.chrome.service import Service\n",
    "from selenium.webdriver.common.by import By\n",
    "from selenium.webdriver.support.wait import WebDriverWait\n",
    "from selenium.webdriver.support import expected_conditions as EC\n",
    "import time\n",
    "import pickle\n",
    "import re\n",
    "import csv"
   ]
  },
  {
   "cell_type": "code",
   "execution_count": 16,
   "id": "f9a8a192",
   "metadata": {},
   "outputs": [],
   "source": [
    "URL = 'https://www.walmart.com/account/giftcards/balance'"
   ]
  },
  {
   "cell_type": "code",
   "execution_count": 22,
   "id": "5f6cd06f",
   "metadata": {},
   "outputs": [],
   "source": [
    "option = webdriver.ChromeOptions()\n",
    "option.headless=False\n",
    "driver = uc.Chrome(options=option)"
   ]
  },
  {
   "cell_type": "code",
   "execution_count": 23,
   "id": "a55cdf1b",
   "metadata": {},
   "outputs": [],
   "source": [
    "driver.get(URL)"
   ]
  },
  {
   "cell_type": "code",
   "execution_count": 20,
   "id": "31028f9a",
   "metadata": {},
   "outputs": [],
   "source": [
    "wait = WebDriverWait(driver, 10)\n",
    "with open('numbers.csv', newline='') as csvfile:\n",
    "    reader = csv.reader(csvfile)\n",
    "    next(reader)\n",
    "    for row in reader:\n",
    "        number = row[0]\n",
    "        pin = row[1]\n",
    "        \n",
    "        # Run this line if the gift card numbers in the CSV file do not include a space after every 4th letter. \n",
    "        #number = number[:4]+ ' ' + number[4:8]+' '+number[8:12]+' '+number[12:]\n",
    "        \n",
    "        try:\n",
    "            wait.until(EC.presence_of_element_located((By.ID, 'react-aria-1')))\n",
    "            driver.find_element(By.ID, 'react-aria-1').send_keys(number)\n",
    "            wait.until(EC.text_to_be_present_in_element_value((By.ID, 'react-aria-1'), number))\n",
    "            driver.find_element(By.ID, 'react-aria-2').send_keys(pin)\n",
    "            wait.until(EC.text_to_be_present_in_element_value((By.ID, 'react-aria-2'), pin))\n",
    "            driver.find_element(By.ID, 'react-aria-2').submit()\n",
    "            if wait.until(EC.text_to_be_present_in_element((By.ID, \"ld_modalTitle_0\"), 'Gift card balance')):\n",
    "\n",
    "                html = driver.page_source\n",
    "                start = '<span class=\"balance \">'\n",
    "                end = '</span>'\n",
    "                result = re.search('%s(.*)%s' %(start, end), html).group(1)\n",
    "\n",
    "                val = {'number': number, 'balance': result}\n",
    "                with open('balance.csv', 'a') as csvfile:\n",
    "                    fieldnames = ['number', 'balance']\n",
    "                    writer = csv.DictWriter(csvfile,fieldnames=fieldnames)\n",
    "                    writer.writerow(val)\n",
    "\n",
    "            driver.refresh()\n",
    "        except AttributeError:\n",
    "            print('Could not retrieve: '+number)\n",
    "driver.quit()"
   ]
  }
 ],
 "metadata": {
  "kernelspec": {
   "display_name": "Python 3 (ipykernel)",
   "language": "python",
   "name": "python3"
  },
  "language_info": {
   "codemirror_mode": {
    "name": "ipython",
    "version": 3
   },
   "file_extension": ".py",
   "mimetype": "text/x-python",
   "name": "python",
   "nbconvert_exporter": "python",
   "pygments_lexer": "ipython3",
   "version": "3.10.9"
  }
 },
 "nbformat": 4,
 "nbformat_minor": 5
}
